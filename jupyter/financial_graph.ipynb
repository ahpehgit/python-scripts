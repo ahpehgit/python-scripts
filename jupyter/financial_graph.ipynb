{
 "cells": [
  {
   "cell_type": "code",
   "execution_count": 2,
   "metadata": {},
   "outputs": [],
   "source": [
    "from pandas_datareader import data\n",
    "import datetime, datedelta\n",
    "from bokeh.plotting import figure, show, output_file \n",
    "from bokeh.models.annotations import Title\n",
    "from bokeh.embed import components\n",
    "from bokeh.resources import CDN\n",
    "from bokeh.models import ColumnDataSource, HoverTool"
   ]
  },
  {
   "cell_type": "code",
   "execution_count": 3,
   "metadata": {},
   "outputs": [],
   "source": [
    "now = datetime.datetime.now()\n",
    "start = now - datedelta.datedelta(months=3)\n",
    "end = now\n",
    "\n",
    "stock_symbol = 'AAPL'\n",
    "\n",
    "df = None\n",
    "try:\n",
    "    df = data.DataReader(name=stock_symbol, data_source='yahoo', start=start, end=end)\n",
    "except:\n",
    "    print('Unable to fetch data')\n",
    "\n",
    "#df.index[df.Open > df.Close]\n",
    "\n",
    "def inc_dec(c, o):\n",
    "    if c > o:\n",
    "        return 'Increase'\n",
    "    elif c < o:\n",
    "        return 'Decrease'\n",
    "    else:\n",
    "        return 'Equal'\n",
    "    \n",
    "df['Status'] = [inc_dec(c1, o1) for c1, o1 in zip(df.Close, df.Open)]\n",
    "\n",
    "df.index[df.Status == 'Decrease']\n",
    "df['Height'] = abs(df.Open - df.Close)\n",
    "df['Middle'] = (df.Open + df.Close)/2\n",
    "df[\"Date_string\"] = df.index.strftime(\"%Y-%m-%d\")"
   ]
  },
  {
   "cell_type": "code",
   "execution_count": 4,
   "metadata": {},
   "outputs": [],
   "source": [
    "p = figure(x_axis_type='datetime', width=1000, height=300, sizing_mode='scale_both')\n",
    "t = Title()\n",
    "t.text = 'Candlestick chart for ' + stock_symbol + ': ' + start.strftime('%d/%m/%y') + ' - ' + end.strftime('%d/%m/%y')\n",
    "p.title = t\n",
    "p.grid.grid_line_alpha = 0.3\n",
    "\n",
    "hours_12 = 12*60*60*1000\n",
    "\n",
    "#days_earn = df.index[df.Close > df.Open]\n",
    "#days_lose = df.index[df.Close < df.Open]\n",
    "#p.rect(days_earn, (df.Open + df.Close)/2, hours_12, abs(df.Open - df.Close), fill_color='green', line_color='black')\n",
    "#p.rect(days_lose, (df.Open + df.Close)/2, hours_12, abs(df.Open - df.Close), fill_color='red', line_color='black')\n",
    "\n",
    "hover = HoverTool(tooltips=[(\"Date\", \"@Date_string\"), (\"Open\", \"@Open\"), (\"Close\", \"@Close\"), (\"High\", \"@High\"), (\"Low\", \"@Low\")])\n",
    "p.add_tools(hover)\n",
    "\n",
    "cds_all = ColumnDataSource(df)\n",
    "cds_increase = ColumnDataSource(df[df['Status']=='Increase'])\n",
    "cds_decrease = ColumnDataSource(df[df['Status']=='Decrease'])\n",
    "\n",
    "#p.segment(df.index, df.High, df.index, df.Low)\n",
    "p.segment('Date', 'High', 'Date', 'Low', source=cds_all)\n",
    "p.rect('Date', 'Middle', hours_12, 'Height', fill_color='green', line_color='black', source=cds_increase)\n",
    "p.rect('Date', 'Middle', hours_12, 'Height', fill_color='red', line_color='black', source=cds_decrease)\n",
    "#p.rect(df.index[df.Status=='Increase'], df.Middle[df.Status=='Increase'], hours_12, df.Height[df.Status=='Increase'], fill_color='green', line_color='black')\n",
    "#p.rect(df.index[df.Status=='Decrease'], df.Middle[df.Status=='Decrease'], hours_12, df.Height[df.Status=='Decrease'], fill_color='red', line_color='black')\n",
    "\n",
    "script1, div1 = components(p)\n",
    "cdn_js = CDN.js_files\n",
    "cdn_css = CDN.css_files\n",
    "\n",
    "output_file(\"CS.html\")\n",
    "show(p)\n",
    "\n",
    "#df.index\n",
    "#ColumnDataSource(df).data['Date']\n"
   ]
  }
 ],
 "metadata": {
  "kernelspec": {
   "display_name": "Python 3",
   "language": "python",
   "name": "python3"
  },
  "language_info": {
   "codemirror_mode": {
    "name": "ipython",
    "version": 3
   },
   "file_extension": ".py",
   "mimetype": "text/x-python",
   "name": "python",
   "nbconvert_exporter": "python",
   "pygments_lexer": "ipython3",
   "version": "3.7.2"
  }
 },
 "nbformat": 4,
 "nbformat_minor": 2
}
