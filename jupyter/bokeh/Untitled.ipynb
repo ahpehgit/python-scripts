{
 "cells": [
  {
   "cell_type": "code",
   "execution_count": 6,
   "metadata": {},
   "outputs": [],
   "source": [
    "#importing bokeh and pandas\n",
    "from bokeh.plotting import figure, output_file, show\n",
    "import pandas\n",
    "\n",
    "#prepare some data\n",
    "\"\"\"\n",
    "df=pandas.read_csv(\"http://pythonhow.com/data/bachelors.csv\")\n",
    "x=df[\"Year\"]\n",
    "y=df[\"Engineering\"]\n",
    "\"\"\"\n",
    "\n",
    "df = pandas.read_excel(\"http://pythonhow.com/data/verlegenhuken.xlsx\", sheet_name=0)\n",
    "pressures = df[\"Pressure\"]/10\n",
    "temperatures = df[\"Temperature\"]/10\n",
    "\n",
    "\"\"\"\n",
    "x = y = [];\n",
    "for temperature in temperatures:\n",
    "    x.append(temperature/10)\n",
    "\n",
    "for pressure in pressures:\n",
    "    y.append(pressure/10)\n",
    "\"\"\"\n",
    "\n",
    "#prepare the output file\n",
    "#output_file(\"Line_from_bachelors.html\")\n",
    "output_file(\"Weather_data.html\")\n",
    "\n",
    "#create a figure object\n",
    "#p=figure()\n",
    "p=figure(plot_width=500,plot_height=400, tools='pan')\n",
    "\n",
    "p.title.text=\"Temperature and Air Pressure\"\n",
    "p.title.text_color=\"Black\"\n",
    "p.title.text_font=\"times\"\n",
    "p.title.text_font_style=\"bold\"\n",
    "p.xaxis.minor_tick_line_color=None\n",
    "p.yaxis.minor_tick_line_color=None\n",
    "p.xaxis.axis_label=\"Temperature (Celsius)\"\n",
    "p.yaxis.axis_label=\"Pressure (hPa)\"\n",
    "\n",
    "#create line plot\n",
    "p.circle(temperatures, pressures)\n",
    "\n",
    "#write the plot in the figure object\n",
    "show(p)"
   ]
  },
  {
   "cell_type": "code",
   "execution_count": null,
   "metadata": {},
   "outputs": [],
   "source": []
  }
 ],
 "metadata": {
  "kernelspec": {
   "display_name": "Python 3",
   "language": "python",
   "name": "python3"
  },
  "language_info": {
   "codemirror_mode": {
    "name": "ipython",
    "version": 3
   },
   "file_extension": ".py",
   "mimetype": "text/x-python",
   "name": "python",
   "nbconvert_exporter": "python",
   "pygments_lexer": "ipython3",
   "version": "3.7.2"
  }
 },
 "nbformat": 4,
 "nbformat_minor": 2
}
