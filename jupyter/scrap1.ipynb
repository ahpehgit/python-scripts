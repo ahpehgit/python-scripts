{
 "cells": [
  {
   "cell_type": "code",
   "execution_count": 2,
   "metadata": {
    "scrolled": false
   },
   "outputs": [],
   "source": [
    "from lxml import html\n",
    "import requests\n",
    "\n",
    "page = requests.get(\"http://econpy.pythonanywhere.com/ex/001.html\")\n",
    "domTree = html.fromstring(page.content)"
   ]
  },
  {
   "cell_type": "code",
   "execution_count": 55,
   "metadata": {
    "scrolled": true
   },
   "outputs": [
    {
     "name": "stdout",
     "output_type": "stream",
     "text": [
      "span, item-price, $29.95\n",
      "span, item-price, $8.37\n",
      "span, item-price, $15.26\n",
      "span, item-price, $19.25\n",
      "span, item-price, $19.25\n",
      "span, item-price, $13.99\n",
      "span, item-price, $31.57\n",
      "span, item-price, $8.49\n",
      "span, item-price, $14.47\n",
      "span, item-price, $15.86\n",
      "span, item-price, $11.11\n",
      "span, item-price, $15.98\n",
      "span, item-price, $16.27\n",
      "span, item-price, $7.50\n",
      "span, item-price, $50.85\n",
      "span, item-price, $14.26\n",
      "span, item-price, $5.68\n",
      "span, item-price, $15.00\n",
      "span, item-price, $114.07\n",
      "span, item-price, $10.09\n"
     ]
    }
   ],
   "source": [
    "for ele in domTree.findall(\".//span\"):\n",
    "    print('%s, %s, %s' % (ele.tag, ele.get('class'), ele.text))"
   ]
  },
  {
   "cell_type": "code",
   "execution_count": 3,
   "metadata": {},
   "outputs": [
    {
     "name": "stdout",
     "output_type": "stream",
     "text": [
      "Download completed\n"
     ]
    }
   ],
   "source": [
    "try:\n",
    "    res = requests.get(\"https://yesno.wtf/assets/yes/10-271c872c91cd72c1e38e72d2f8eda676.gif\")\n",
    "    if res.status_code == 200:\n",
    "        with open(\"00000001.gif\", \"wb\") as f:\n",
    "            f.write(res.content)\n",
    "            print(\"Download completed\")\n",
    "    else:\n",
    "        print(\"Get request did not return a correct status code\")\n",
    "except IOError:\n",
    "    print(\"Error saving image\")"
   ]
  },
  {
   "cell_type": "code",
   "execution_count": 65,
   "metadata": {},
   "outputs": [
    {
     "name": "stdout",
     "output_type": "stream",
     "text": [
      "1\n",
      "2\n",
      "3\n",
      "4\n",
      "5\n",
      "6\n",
      "7\n",
      "8\n",
      "9\n",
      "10\n"
     ]
    }
   ],
   "source": [
    "i = [1,2,3,4,5,6,7,8,9,10]\n",
    "for idx in i:\n",
    "    print(idx)"
   ]
  }
 ],
 "metadata": {
  "kernelspec": {
   "display_name": "Python 3",
   "language": "python",
   "name": "python3"
  },
  "language_info": {
   "codemirror_mode": {
    "name": "ipython",
    "version": 3
   },
   "file_extension": ".py",
   "mimetype": "text/x-python",
   "name": "python",
   "nbconvert_exporter": "python",
   "pygments_lexer": "ipython3",
   "version": "3.7.2"
  }
 },
 "nbformat": 4,
 "nbformat_minor": 2
}
