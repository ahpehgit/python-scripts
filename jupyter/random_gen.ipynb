{
 "cells": [
  {
   "cell_type": "code",
   "execution_count": 196,
   "metadata": {
    "scrolled": true
   },
   "outputs": [
    {
     "name": "stdout",
     "output_type": "stream",
     "text": [
      "[1, 5, 6, 21, 22, 25]\n",
      "[2, 3, 12, 13, 19, 23]\n",
      "[6, 12, 19, 24, 32, 36]\n",
      "[11, 14, 26, 33, 41, 46]\n"
     ]
    }
   ],
   "source": [
    "import random\n",
    "\n",
    "###########################################################################\n",
    "def reset_range():    \n",
    "    numbers = []\n",
    "    for i in range(49):\n",
    "        numbers.append(i+1)\n",
    "    return numbers\n",
    "\n",
    "###########################################################################\n",
    "def get_random(numbers):\n",
    "    rand = random.SystemRandom()\n",
    "    pos = rand.randint(1, 49)\n",
    "    idx = pos - 1\n",
    "\n",
    "    while numbers[idx] == \"-\":\n",
    "        pos = rand.randint(1, 49)\n",
    "        idx = pos - 1\n",
    "    \n",
    "    number = numbers[idx]\n",
    "    numbers[idx] = \"-\" #set the number as \"-\" to indicate it has been used\n",
    "    return number\n",
    "\n",
    "###########################################################################\n",
    "def get_next_number(numbers, curr_number):\n",
    "    \n",
    "    is_next_num_found = False\n",
    "    next_num = curr_number + 1;\n",
    "    \n",
    "    while is_next_num_found == False:\n",
    "        if next_num > 49:\n",
    "            next_num = 1\n",
    "            \n",
    "        for i in numbers:\n",
    "            if next_num == i:\n",
    "                # found\n",
    "                is_next_num_found = True\n",
    "                break\n",
    "        \n",
    "        if is_next_num_found == False:\n",
    "            next_num += 1\n",
    "\n",
    "    idx = next_num - 1\n",
    "    number = numbers[idx]\n",
    "    numbers[idx] = \"-\" #set the number as \"-\" to indicate it has been used\n",
    "    return number\n",
    "\n",
    "###########################################################################\n",
    "num_of_sets = 4\n",
    "num_of_system = 6\n",
    "\n",
    "toto = [[] for i in range(num_of_sets)] #create a 2d array of <num_of_sets> number of lists\n",
    "\n",
    "number = -1\n",
    "for i in range(num_of_sets):\n",
    "    numbers = reset_range()\n",
    "    curr_set = []\n",
    "    \n",
    "    for j in range(num_of_system):\n",
    "        \n",
    "        factor = random.uniform(0, 1)\n",
    "        if factor * 100 <= 10:\n",
    "            #10% chance of executing get_next_number\n",
    "            #print(\"Get next number %s before on set %s\" %(number, i+1))\n",
    "            number = get_next_number(numbers, number)\n",
    "            #print(\"Get next number %s after on set %s\" %(number, i+1))\n",
    "        else:\n",
    "            number = get_random(numbers)\n",
    "        \n",
    "        curr_set.append(number)\n",
    "    toto[i] = sorted(curr_set)\n",
    "\n",
    "for i in range(num_of_sets):\n",
    "    print(toto[i])"
   ]
  },
  {
   "cell_type": "code",
   "execution_count": 57,
   "metadata": {},
   "outputs": [
    {
     "name": "stdout",
     "output_type": "stream",
     "text": [
      "[[1, 2], [], []]\n"
     ]
    }
   ],
   "source": [
    "listy = [[] for i in range(3)]\n",
    "listy[0] = [1,2]\n",
    "print(listy)"
   ]
  },
  {
   "cell_type": "code",
   "execution_count": 58,
   "metadata": {},
   "outputs": [
    {
     "name": "stdout",
     "output_type": "stream",
     "text": [
      "More than 30\n",
      "More than 30\n",
      "More than 30\n",
      "More than 30\n",
      "Less than 30\n",
      "More than 30\n",
      "More than 30\n",
      "More than 30\n",
      "Less than 30\n",
      "More than 30\n",
      "not found\n"
     ]
    }
   ],
   "source": [
    "for i in range(10):\n",
    "    factor = random.uniform(0, 1)\n",
    "    if factor * 100 >= 30:\n",
    "        print(\"More than 30\")\n",
    "    else:\n",
    "        print(\"Less than 30\")\n",
    "        \n",
    "a = [1,2,3,4,5]\n",
    "\n",
    "try:\n",
    "    if a.index(41):\n",
    "        b = a.index(41)\n",
    "        print (b)\n",
    "except ValueError:\n",
    "    print(\"not found\")"
   ]
  },
  {
   "cell_type": "code",
   "execution_count": 477,
   "metadata": {},
   "outputs": [
    {
     "name": "stdout",
     "output_type": "stream",
     "text": [
      "Walk size = 1 / % num of no transport 100.0\n",
      "Walk size = 2 / % num of no transport 100.0\n",
      "Walk size = 3 / % num of no transport 100.0\n",
      "Walk size = 4 / % num of no transport 100.0\n",
      "Walk size = 5 / % num of no transport 87.74\n",
      "Walk size = 6 / % num of no transport 94.08\n",
      "Walk size = 7 / % num of no transport 76.53999999999999\n",
      "Walk size = 8 / % num of no transport 85.96000000000001\n",
      "Walk size = 9 / % num of no transport 66.55\n",
      "Walk size = 10 / % num of no transport 79.16\n",
      "Walk size = 11 / % num of no transport 59.61\n",
      "Walk size = 12 / % num of no transport 72.83\n",
      "Walk size = 13 / % num of no transport 53.53\n",
      "Walk size = 14 / % num of no transport 66.81\n",
      "Walk size = 15 / % num of no transport 49.220000000000006\n",
      "Walk size = 16 / % num of no transport 61.85000000000001\n",
      "Walk size = 17 / % num of no transport 44.24\n",
      "Walk size = 18 / % num of no transport 58.19\n",
      "Walk size = 19 / % num of no transport 41.64\n",
      "Walk size = 20 / % num of no transport 55.28999999999999\n",
      "Walk size = 21 / % num of no transport 38.31\n",
      "Walk size = 22 / % num of no transport 51.080000000000005\n",
      "Walk size = 23 / % num of no transport 34.81\n",
      "Walk size = 24 / % num of no transport 47.54\n",
      "Walk size = 25 / % num of no transport 32.76\n",
      "Walk size = 26 / % num of no transport 46.050000000000004\n",
      "Walk size = 27 / % num of no transport 30.819999999999997\n",
      "Walk size = 28 / % num of no transport 43.46\n",
      "Walk size = 29 / % num of no transport 29.110000000000003\n",
      "Walk size = 30 / % num of no transport 41.46\n"
     ]
    }
   ],
   "source": [
    "\"\"\"\n",
    "Random walk generator\n",
    "\"\"\"\n",
    "\n",
    "def rand_walk(n):\n",
    "    x = y = 0\n",
    "\n",
    "    for i in range(n):\n",
    "        step = random.choice(['N', 'S', 'E', 'W'])\n",
    "\n",
    "        if step == 'N':\n",
    "            y = y + 1\n",
    "        elif step == 'S':\n",
    "            y = y - 1\n",
    "        elif step == 'E':\n",
    "            x = x + 1\n",
    "        else:\n",
    "            x = x - 1\n",
    "\n",
    "    return (x, y)\n",
    "\n",
    "def rand_walk2(n):\n",
    "    x, y = 0, 0\n",
    "    \n",
    "    for i in range(n):\n",
    "        dx, dy = random.choice([(0, 1), (0, -1), (1, 0), (-1, 0)])\n",
    "        x += dx\n",
    "        y += dy\n",
    "        \n",
    "    return (x, y)\n",
    "\"\"\"\n",
    "for i in range(25):\n",
    "    walk = rand_walk2(10)\n",
    "    print(walk, 'Distance from home = ', abs(walk[0] + walk[1]))\n",
    "\"\"\"\n",
    "\n",
    "number_of_walks = 10000\n",
    "for i in range(1, 31):\n",
    "    no_transport = 0;\n",
    "\n",
    "    for j in range(number_of_walks):\n",
    "        (x, y) = rand_walk2(i)\n",
    "\n",
    "        dist = abs(x) + abs(y)\n",
    "        if dist <= 4:\n",
    "            no_transport += 1\n",
    "\n",
    "    no_transport_percent = float(no_transport) / number_of_walks * 100\n",
    "    \n",
    "    print('Walk size =', i, '/ % num of no transport', no_transport_percent)"
   ]
  }
 ],
 "metadata": {
  "kernelspec": {
   "display_name": "Python 3",
   "language": "python",
   "name": "python3"
  },
  "language_info": {
   "codemirror_mode": {
    "name": "ipython",
    "version": 3
   },
   "file_extension": ".py",
   "mimetype": "text/x-python",
   "name": "python",
   "nbconvert_exporter": "python",
   "pygments_lexer": "ipython3",
   "version": "3.7.2"
  }
 },
 "nbformat": 4,
 "nbformat_minor": 2
}
